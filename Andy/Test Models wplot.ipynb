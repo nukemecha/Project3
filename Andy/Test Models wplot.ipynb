{
 "cells": [
  {
   "cell_type": "code",
   "execution_count": 1,
   "metadata": {},
   "outputs": [],
   "source": [
    "import pandas as pd\n",
    "from sklearn.model_selection import train_test_split\n",
    "from sklearn.tree import DecisionTreeClassifier\n",
    "import matplotlib.pyplot as plt"
   ]
  },
  {
   "cell_type": "code",
   "execution_count": 2,
   "metadata": {},
   "outputs": [
    {
     "data": {
      "text/html": [
       "<div>\n",
       "<style scoped>\n",
       "    .dataframe tbody tr th:only-of-type {\n",
       "        vertical-align: middle;\n",
       "    }\n",
       "\n",
       "    .dataframe tbody tr th {\n",
       "        vertical-align: top;\n",
       "    }\n",
       "\n",
       "    .dataframe thead th {\n",
       "        text-align: right;\n",
       "    }\n",
       "</style>\n",
       "<table border=\"1\" class=\"dataframe\">\n",
       "  <thead>\n",
       "    <tr style=\"text-align: right;\">\n",
       "      <th></th>\n",
       "      <th>loan_amnt</th>\n",
       "      <th>funded_amnt</th>\n",
       "      <th>funded_amnt_inv</th>\n",
       "      <th>int_rate</th>\n",
       "      <th>installment</th>\n",
       "      <th>annual_inc</th>\n",
       "      <th>loan_status</th>\n",
       "      <th>dti</th>\n",
       "      <th>delinq_2yrs</th>\n",
       "      <th>inq_last_6mths</th>\n",
       "      <th>...</th>\n",
       "      <th>emp__8 years</th>\n",
       "      <th>emp__9 years</th>\n",
       "      <th>emp__&lt; 1 year</th>\n",
       "      <th>ho__MORTGAGE</th>\n",
       "      <th>ho__OTHER</th>\n",
       "      <th>ho__OWN</th>\n",
       "      <th>ho__RENT</th>\n",
       "      <th>ver__Not Verified</th>\n",
       "      <th>ver__Source Verified</th>\n",
       "      <th>ver__Verified</th>\n",
       "    </tr>\n",
       "  </thead>\n",
       "  <tbody>\n",
       "    <tr>\n",
       "      <td>0</td>\n",
       "      <td>5000</td>\n",
       "      <td>5000</td>\n",
       "      <td>4975.0</td>\n",
       "      <td>10.65</td>\n",
       "      <td>162.87</td>\n",
       "      <td>24000.0</td>\n",
       "      <td>Fully Paid</td>\n",
       "      <td>27.65</td>\n",
       "      <td>0</td>\n",
       "      <td>1</td>\n",
       "      <td>...</td>\n",
       "      <td>0</td>\n",
       "      <td>0</td>\n",
       "      <td>0</td>\n",
       "      <td>0</td>\n",
       "      <td>0</td>\n",
       "      <td>0</td>\n",
       "      <td>1</td>\n",
       "      <td>0</td>\n",
       "      <td>0</td>\n",
       "      <td>1</td>\n",
       "    </tr>\n",
       "    <tr>\n",
       "      <td>1</td>\n",
       "      <td>2500</td>\n",
       "      <td>2500</td>\n",
       "      <td>2500.0</td>\n",
       "      <td>15.27</td>\n",
       "      <td>59.83</td>\n",
       "      <td>30000.0</td>\n",
       "      <td>Charged Off</td>\n",
       "      <td>1.00</td>\n",
       "      <td>0</td>\n",
       "      <td>5</td>\n",
       "      <td>...</td>\n",
       "      <td>0</td>\n",
       "      <td>0</td>\n",
       "      <td>1</td>\n",
       "      <td>0</td>\n",
       "      <td>0</td>\n",
       "      <td>0</td>\n",
       "      <td>1</td>\n",
       "      <td>0</td>\n",
       "      <td>1</td>\n",
       "      <td>0</td>\n",
       "    </tr>\n",
       "    <tr>\n",
       "      <td>2</td>\n",
       "      <td>2400</td>\n",
       "      <td>2400</td>\n",
       "      <td>2400.0</td>\n",
       "      <td>15.96</td>\n",
       "      <td>84.33</td>\n",
       "      <td>12252.0</td>\n",
       "      <td>Fully Paid</td>\n",
       "      <td>8.72</td>\n",
       "      <td>0</td>\n",
       "      <td>2</td>\n",
       "      <td>...</td>\n",
       "      <td>0</td>\n",
       "      <td>0</td>\n",
       "      <td>0</td>\n",
       "      <td>0</td>\n",
       "      <td>0</td>\n",
       "      <td>0</td>\n",
       "      <td>1</td>\n",
       "      <td>1</td>\n",
       "      <td>0</td>\n",
       "      <td>0</td>\n",
       "    </tr>\n",
       "    <tr>\n",
       "      <td>3</td>\n",
       "      <td>10000</td>\n",
       "      <td>10000</td>\n",
       "      <td>10000.0</td>\n",
       "      <td>13.49</td>\n",
       "      <td>339.31</td>\n",
       "      <td>49200.0</td>\n",
       "      <td>Fully Paid</td>\n",
       "      <td>20.00</td>\n",
       "      <td>0</td>\n",
       "      <td>1</td>\n",
       "      <td>...</td>\n",
       "      <td>0</td>\n",
       "      <td>0</td>\n",
       "      <td>0</td>\n",
       "      <td>0</td>\n",
       "      <td>0</td>\n",
       "      <td>0</td>\n",
       "      <td>1</td>\n",
       "      <td>0</td>\n",
       "      <td>1</td>\n",
       "      <td>0</td>\n",
       "    </tr>\n",
       "    <tr>\n",
       "      <td>4</td>\n",
       "      <td>3000</td>\n",
       "      <td>3000</td>\n",
       "      <td>3000.0</td>\n",
       "      <td>12.69</td>\n",
       "      <td>67.79</td>\n",
       "      <td>80000.0</td>\n",
       "      <td>Current</td>\n",
       "      <td>17.94</td>\n",
       "      <td>0</td>\n",
       "      <td>0</td>\n",
       "      <td>...</td>\n",
       "      <td>0</td>\n",
       "      <td>0</td>\n",
       "      <td>0</td>\n",
       "      <td>0</td>\n",
       "      <td>0</td>\n",
       "      <td>0</td>\n",
       "      <td>1</td>\n",
       "      <td>0</td>\n",
       "      <td>1</td>\n",
       "      <td>0</td>\n",
       "    </tr>\n",
       "  </tbody>\n",
       "</table>\n",
       "<p>5 rows × 56 columns</p>\n",
       "</div>"
      ],
      "text/plain": [
       "   loan_amnt  funded_amnt  funded_amnt_inv  int_rate  installment  annual_inc  \\\n",
       "0       5000         5000           4975.0     10.65       162.87     24000.0   \n",
       "1       2500         2500           2500.0     15.27        59.83     30000.0   \n",
       "2       2400         2400           2400.0     15.96        84.33     12252.0   \n",
       "3      10000        10000          10000.0     13.49       339.31     49200.0   \n",
       "4       3000         3000           3000.0     12.69        67.79     80000.0   \n",
       "\n",
       "   loan_status    dti  delinq_2yrs  inq_last_6mths  ...  emp__8 years  \\\n",
       "0   Fully Paid  27.65            0               1  ...             0   \n",
       "1  Charged Off   1.00            0               5  ...             0   \n",
       "2   Fully Paid   8.72            0               2  ...             0   \n",
       "3   Fully Paid  20.00            0               1  ...             0   \n",
       "4      Current  17.94            0               0  ...             0   \n",
       "\n",
       "   emp__9 years  emp__< 1 year  ho__MORTGAGE  ho__OTHER  ho__OWN  ho__RENT  \\\n",
       "0             0              0             0          0        0         1   \n",
       "1             0              1             0          0        0         1   \n",
       "2             0              0             0          0        0         1   \n",
       "3             0              0             0          0        0         1   \n",
       "4             0              0             0          0        0         1   \n",
       "\n",
       "   ver__Not Verified  ver__Source Verified  ver__Verified  \n",
       "0                  0                     0              1  \n",
       "1                  0                     1              0  \n",
       "2                  1                     0              0  \n",
       "3                  0                     1              0  \n",
       "4                  0                     1              0  \n",
       "\n",
       "[5 rows x 56 columns]"
      ]
     },
     "execution_count": 2,
     "metadata": {},
     "output_type": "execute_result"
    }
   ],
   "source": [
    "df = pd.read_csv('../cleaned_2011.csv')\n",
    "df.head()"
   ]
  },
  {
   "cell_type": "code",
   "execution_count": 3,
   "metadata": {},
   "outputs": [
    {
     "data": {
      "text/plain": [
       "Fully Paid            16470\n",
       "Charged Off            3205\n",
       "Current                1953\n",
       "Late (31-120 days)       46\n",
       "In Grace Period          28\n",
       "Late (16-30 days)        11\n",
       "Default                   8\n",
       "Name: loan_status, dtype: int64"
      ]
     },
     "execution_count": 3,
     "metadata": {},
     "output_type": "execute_result"
    }
   ],
   "source": [
    "df['loan_status'].value_counts()"
   ]
  },
  {
   "cell_type": "code",
   "execution_count": 4,
   "metadata": {},
   "outputs": [],
   "source": [
    "df['loan_status'] = df['loan_status'].replace({'Fully Paid': 1})\n",
    "df['loan_status'] = df['loan_status'].replace({'Charged Off': 0})\n",
    "df['loan_status'] = df['loan_status'].replace({'Current': 1})\n",
    "df['loan_status'] = df['loan_status'].replace({'Late (31-120 days)': 0})\n",
    "df['loan_status'] = df['loan_status'].replace({'In Grace Period': 0})\n",
    "df['loan_status'] = df['loan_status'].replace({'Late (16-30 days)': 0})\n",
    "df['loan_status'] = df['loan_status'].replace({'Default': 0})"
   ]
  },
  {
   "cell_type": "code",
   "execution_count": 5,
   "metadata": {},
   "outputs": [
    {
     "data": {
      "text/plain": [
       "Index(['loan_amnt', 'funded_amnt', 'funded_amnt_inv', 'int_rate',\n",
       "       'installment', 'annual_inc', 'loan_status', 'dti', 'delinq_2yrs',\n",
       "       'inq_last_6mths', 'mths_since_last_delinq', 'mths_since_last_record',\n",
       "       'open_acc', 'pub_rec', 'revol_bal', 'revol_util', 'total_acc',\n",
       "       'out_prncp', 'out_prncp_inv', 'total_pymnt', 'total_pymnt_inv',\n",
       "       'total_rec_prncp', 'total_rec_int', 'total_rec_late_fee', 'recoveries',\n",
       "       'collection_recovery_fee', 'last_pymnt_amnt',\n",
       "       'collections_12_mths_ex_med', 'mths_since_last_major_derog',\n",
       "       'policy_code', 'term_ 60 months', 'grade_A', 'grade_B', 'grade_C',\n",
       "       'grade_D', 'grade_E', 'grade_F', 'grade_G', 'emp__1 year',\n",
       "       'emp__10+ years', 'emp__2 years', 'emp__3 years', 'emp__4 years',\n",
       "       'emp__5 years', 'emp__6 years', 'emp__7 years', 'emp__8 years',\n",
       "       'emp__9 years', 'emp__< 1 year', 'ho__MORTGAGE', 'ho__OTHER', 'ho__OWN',\n",
       "       'ho__RENT', 'ver__Not Verified', 'ver__Source Verified',\n",
       "       'ver__Verified'],\n",
       "      dtype='object')"
      ]
     },
     "execution_count": 5,
     "metadata": {},
     "output_type": "execute_result"
    }
   ],
   "source": [
    "df.columns"
   ]
  },
  {
   "cell_type": "code",
   "execution_count": 6,
   "metadata": {},
   "outputs": [],
   "source": [
    "labels = df[['loan_status']]\n",
    "data = df[['loan_amnt','funded_amnt','funded_amnt_inv','int_rate','installment','annual_inc','dti',\n",
    "           'delinq_2yrs','inq_last_6mths','mths_since_last_delinq','mths_since_last_record','open_acc','pub_rec',\n",
    "          'revol_bal','revol_util','total_acc','out_prncp_inv','total_pymnt','total_pymnt_inv','total_rec_prncp',\n",
    "           'total_rec_int']]\n"
   ]
  },
  {
   "cell_type": "code",
   "execution_count": 7,
   "metadata": {},
   "outputs": [],
   "source": [
    "train_data,test_data,train_labels,test_labels = train_test_split(data,labels,random_state=1)"
   ]
  },
  {
   "cell_type": "markdown",
   "metadata": {},
   "source": [
    "# Decision Tree Model"
   ]
  },
  {
   "cell_type": "code",
   "execution_count": 8,
   "metadata": {},
   "outputs": [
    {
     "data": {
      "text/plain": [
       "DecisionTreeClassifier(class_weight=None, criterion='gini', max_depth=None,\n",
       "                       max_features=None, max_leaf_nodes=None,\n",
       "                       min_impurity_decrease=0.0, min_impurity_split=None,\n",
       "                       min_samples_leaf=1, min_samples_split=2,\n",
       "                       min_weight_fraction_leaf=0.0, presort=False,\n",
       "                       random_state=1, splitter='best')"
      ]
     },
     "execution_count": 8,
     "metadata": {},
     "output_type": "execute_result"
    }
   ],
   "source": [
    "tree = DecisionTreeClassifier(random_state = 1)\n",
    "tree.fit(train_data,train_labels)"
   ]
  },
  {
   "cell_type": "code",
   "execution_count": 9,
   "metadata": {},
   "outputs": [
    {
     "data": {
      "text/plain": [
       "0.9821395691401216"
      ]
     },
     "execution_count": 9,
     "metadata": {},
     "output_type": "execute_result"
    }
   ],
   "source": [
    "score = tree.score(test_data,test_labels)\n",
    "score"
   ]
  },
  {
   "cell_type": "markdown",
   "metadata": {},
   "source": [
    "# Random Forest Model"
   ]
  },
  {
   "cell_type": "code",
   "execution_count": 10,
   "metadata": {},
   "outputs": [
    {
     "data": {
      "text/plain": [
       "0.9845332351316516"
      ]
     },
     "execution_count": 10,
     "metadata": {},
     "output_type": "execute_result"
    }
   ],
   "source": [
    "from sklearn.ensemble import RandomForestClassifier\n",
    "rf = RandomForestClassifier(n_estimators=2000)\n",
    "rf.fit(train_data,train_labels.values.ravel())\n",
    "rf.score(test_data, test_labels)"
   ]
  },
  {
   "cell_type": "code",
   "execution_count": 28,
   "metadata": {},
   "outputs": [
    {
     "data": {
      "text/plain": [
       "[(0.3140776511518873, 'total_rec_prncp'),\n",
       " (0.12273582856863391, 'total_pymnt'),\n",
       " (0.11990685323632555, 'total_pymnt_inv'),\n",
       " (0.0835333356864245, 'funded_amnt_inv'),\n",
       " (0.07881224146038618, 'funded_amnt'),\n",
       " (0.07306553114838428, 'loan_amnt'),\n",
       " (0.06829674955961916, 'installment'),\n",
       " (0.038158275399001004, 'total_rec_int'),\n",
       " (0.023268548402273843, 'int_rate'),\n",
       " (0.014749227757045943, 'out_prncp_inv'),\n",
       " (0.010558579781211734, 'revol_util'),\n",
       " (0.010182782443248257, 'annual_inc'),\n",
       " (0.009475123450622897, 'revol_bal'),\n",
       " (0.009222081813904184, 'dti'),\n",
       " (0.007137828047083683, 'total_acc'),\n",
       " (0.005590530976786084, 'open_acc'),\n",
       " (0.004032428620826008, 'mths_since_last_delinq'),\n",
       " (0.0032258398080651607, 'inq_last_6mths'),\n",
       " (0.001787390667583124, 'mths_since_last_record'),\n",
       " (0.0014044081085448346, 'delinq_2yrs'),\n",
       " (0.0007787639121424217, 'pub_rec')]"
      ]
     },
     "execution_count": 28,
     "metadata": {},
     "output_type": "execute_result"
    }
   ],
   "source": [
    "sorted(zip(rf.feature_importances_, data.columns), reverse=True)\n"
   ]
  },
  {
   "cell_type": "code",
   "execution_count": 39,
   "metadata": {},
   "outputs": [],
   "source": [
    "descscores = sorted(rf.feature_importances_,reverse=True)\n",
    "desclabels = ['total_rec_prncp','total_pymnt','total_pymnt_inv','funded_amnt_inv','funded_amnt',\n",
    "             'loan_amnt','installment','total_rec_int','int_rate','out_prncp_inv','revol_util','annual_inc',\n",
    "             'revol_bal','dti','total_acc','open_acc','mths_since_last_delinq','inq_last_6mths','mths_since_last_record',\n",
    "             'delinq_2yrs','pub_rec']"
   ]
  },
  {
   "cell_type": "markdown",
   "metadata": {},
   "source": [
    "From testing this model, we discovered the features that were most determinant of the status of the loan. We can see that features regarding the total principal and payment are largely going to affect whether a loan is going to be a good or bad one. "
   ]
  },
  {
   "cell_type": "code",
   "execution_count": 40,
   "metadata": {},
   "outputs": [
    {
     "data": {
      "image/png": "[encoded data removed]",
      "text/plain": [
       "<Figure size 432x288 with 1 Axes>"
      ]
     },
     "metadata": {
      "needs_background": "light"
     },
     "output_type": "display_data"
    }
   ],
   "source": [
    "\n",
    "plt.bar(desclabels,descscores,align='center')\n",
    "\n",
    "plt.xlabel(\"Features\")\n",
    "plt.ylabel(\"Feature Importance Score\")\n",
    "plt.title(\"Random Forest Model Results\")\n",
    "plt.xticks(rotation=90)\n",
    "plt.tight_layout()\n",
    "plt.show()\n",
    "\n"
   ]
  },
  {
   "cell_type": "code",
   "execution_count": null,
   "metadata": {},
   "outputs": [],
   "source": []
  }
 ],
 "metadata": {
  "kernelspec": {
   "display_name": "Python 3",
   "language": "python",
   "name": "python3"
  },
  "language_info": {
   "codemirror_mode": {
    "name": "ipython",
    "version": 3
   },
   "file_extension": ".py",
   "mimetype": "text/x-python",
   "name": "python",
   "nbconvert_exporter": "python",
   "pygments_lexer": "ipython3",
   "version": "3.7.4"
  }
 },
 "nbformat": 4,
 "nbformat_minor": 2
}
